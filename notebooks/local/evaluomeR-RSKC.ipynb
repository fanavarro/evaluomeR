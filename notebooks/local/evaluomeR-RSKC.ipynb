{
 "cells": [
  {
   "cell_type": "markdown",
   "id": "285a2f02",
   "metadata": {},
   "source": [
    "# evaluomeR w/ Robust and Sparse K-Means Clustering Algorithm"
   ]
  },
  {
   "cell_type": "code",
   "execution_count": 19,
   "id": "9ba99e51",
   "metadata": {},
   "outputs": [],
   "source": [
    "library(\"evaluomeR\")\n",
    "library(\"RSKC\")\n",
    "library(\"sparcl\")"
   ]
  },
  {
   "cell_type": "markdown",
   "id": "93f21df5",
   "metadata": {},
   "source": [
    "# Table of contents\n",
    "* [Dataset](#dataset)\n",
    "* [RSKC usage](#rskc)\n",
    "    * [Figuring out the L<sub>1</sub> upper boundry](#l1_boundry)\n",
    "* [References](#references)"
   ]
  },
  {
   "cell_type": "markdown",
   "id": "66d92248",
   "metadata": {},
   "source": [
    "# Dataset <a class=\"anchor\" id=\"dataset\"></a>"
   ]
  },
  {
   "cell_type": "markdown",
   "id": "41fdad42",
   "metadata": {},
   "source": [
    "Dataframe for the use case is 'ontMetrics' provided by our *evaluomeR* package."
   ]
  },
  {
   "cell_type": "code",
   "execution_count": 20,
   "id": "0f933902",
   "metadata": {},
   "outputs": [
    {
     "data": {
      "text/html": [
       "<table>\n",
       "<thead><tr><th scope=col>ANOnto</th><th scope=col>AROnto</th><th scope=col>CBOOnto</th><th scope=col>CBOOnto2</th><th scope=col>CROnto</th><th scope=col>DITOnto</th><th scope=col>INROnto</th><th scope=col>LCOMOnto</th><th scope=col>NACOnto</th><th scope=col>NOCOnto</th><th scope=col>NOMOnto</th><th scope=col>POnto</th><th scope=col>PROnto</th><th scope=col>RFCOnto</th><th scope=col>RROnto</th><th scope=col>TMOnto</th><th scope=col>TMOnto2</th><th scope=col>WMCOnto</th><th scope=col>WMCOnto2</th></tr></thead>\n",
       "<tbody>\n",
       "\t<tr><td>0.5677419   </td><td>0           </td><td>1.000000    </td><td>1.000000    </td><td>0.0000000000</td><td> 9          </td><td>1.000000    </td><td> 2.442413   </td><td>1.001832    </td><td> 8.378378   </td><td>0.0000000   </td><td>0.4935484   </td><td>0.0000000   </td><td>1.000000    </td><td>1.0000000   </td><td>0.001615509 </td><td>2.000000    </td><td>  2.446886  </td><td> 1.001832   </td></tr>\n",
       "\t<tr><td>1.1463415   </td><td>0           </td><td>1.040650    </td><td>1.040650    </td><td>0.0000000000</td><td> 3          </td><td>1.040650    </td><td> 1.996063   </td><td>1.045267    </td><td>85.333333   </td><td>1.9634146   </td><td>1.0284553   </td><td>0.6535859   </td><td>3.004065    </td><td>0.3464141   </td><td>0.044897959 </td><td>2.000000    </td><td>  2.086420  </td><td> 1.045267   </td></tr>\n",
       "\t<tr><td>0.4129901   </td><td>0           </td><td>1.361615    </td><td>1.361615    </td><td>0.0003510825</td><td>39          </td><td>1.361615    </td><td>11.444232   </td><td>1.416536    </td><td> 3.381285   </td><td>0.3124634   </td><td>1.3538912   </td><td>0.1866480   </td><td>1.674078    </td><td>0.8133520   </td><td>0.256437266 </td><td>2.397079    </td><td> 45.794867  </td><td> 4.001567   </td></tr>\n",
       "\t<tr><td>0.9909036   </td><td>0           </td><td>1.013341    </td><td>1.013341    </td><td>0.0000000000</td><td>12          </td><td>1.013341    </td><td> 5.403820   </td><td>1.013879    </td><td> 8.033654   </td><td>2.8574894   </td><td>0.9848393   </td><td>0.7382109   </td><td>3.870831    </td><td>0.2617891   </td><td>0.013956311 </td><td>2.000000    </td><td>  5.497571  </td><td> 1.017349   </td></tr>\n",
       "\t<tr><td>0.4814025   </td><td>0           </td><td>1.468605    </td><td>1.468605    </td><td>0.0000000000</td><td>28          </td><td>1.468605    </td><td>11.283038   </td><td>1.462013    </td><td> 3.646474   </td><td>0.5712783   </td><td>0.5142732   </td><td>0.2800544   </td><td>2.039883    </td><td>0.7199456   </td><td>0.092420524 </td><td>2.223522    </td><td>328.472677  </td><td>29.112079   </td></tr>\n",
       "</tbody>\n",
       "</table>\n"
      ],
      "text/latex": [
       "\\begin{tabular}{r|lllllllllllllllllll}\n",
       " ANOnto & AROnto & CBOOnto & CBOOnto2 & CROnto & DITOnto & INROnto & LCOMOnto & NACOnto & NOCOnto & NOMOnto & POnto & PROnto & RFCOnto & RROnto & TMOnto & TMOnto2 & WMCOnto & WMCOnto2\\\\\n",
       "\\hline\n",
       "\t 0.5677419    & 0            & 1.000000     & 1.000000     & 0.0000000000 &  9           & 1.000000     &  2.442413    & 1.001832     &  8.378378    & 0.0000000    & 0.4935484    & 0.0000000    & 1.000000     & 1.0000000    & 0.001615509  & 2.000000     &   2.446886   &  1.001832   \\\\\n",
       "\t 1.1463415    & 0            & 1.040650     & 1.040650     & 0.0000000000 &  3           & 1.040650     &  1.996063    & 1.045267     & 85.333333    & 1.9634146    & 1.0284553    & 0.6535859    & 3.004065     & 0.3464141    & 0.044897959  & 2.000000     &   2.086420   &  1.045267   \\\\\n",
       "\t 0.4129901    & 0            & 1.361615     & 1.361615     & 0.0003510825 & 39           & 1.361615     & 11.444232    & 1.416536     &  3.381285    & 0.3124634    & 1.3538912    & 0.1866480    & 1.674078     & 0.8133520    & 0.256437266  & 2.397079     &  45.794867   &  4.001567   \\\\\n",
       "\t 0.9909036    & 0            & 1.013341     & 1.013341     & 0.0000000000 & 12           & 1.013341     &  5.403820    & 1.013879     &  8.033654    & 2.8574894    & 0.9848393    & 0.7382109    & 3.870831     & 0.2617891    & 0.013956311  & 2.000000     &   5.497571   &  1.017349   \\\\\n",
       "\t 0.4814025    & 0            & 1.468605     & 1.468605     & 0.0000000000 & 28           & 1.468605     & 11.283038    & 1.462013     &  3.646474    & 0.5712783    & 0.5142732    & 0.2800544    & 2.039883     & 0.7199456    & 0.092420524  & 2.223522     & 328.472677   & 29.112079   \\\\\n",
       "\\end{tabular}\n"
      ],
      "text/markdown": [
       "\n",
       "| ANOnto | AROnto | CBOOnto | CBOOnto2 | CROnto | DITOnto | INROnto | LCOMOnto | NACOnto | NOCOnto | NOMOnto | POnto | PROnto | RFCOnto | RROnto | TMOnto | TMOnto2 | WMCOnto | WMCOnto2 |\n",
       "|---|---|---|---|---|---|---|---|---|---|---|---|---|---|---|---|---|---|---|\n",
       "| 0.5677419    | 0            | 1.000000     | 1.000000     | 0.0000000000 |  9           | 1.000000     |  2.442413    | 1.001832     |  8.378378    | 0.0000000    | 0.4935484    | 0.0000000    | 1.000000     | 1.0000000    | 0.001615509  | 2.000000     |   2.446886   |  1.001832    |\n",
       "| 1.1463415    | 0            | 1.040650     | 1.040650     | 0.0000000000 |  3           | 1.040650     |  1.996063    | 1.045267     | 85.333333    | 1.9634146    | 1.0284553    | 0.6535859    | 3.004065     | 0.3464141    | 0.044897959  | 2.000000     |   2.086420   |  1.045267    |\n",
       "| 0.4129901    | 0            | 1.361615     | 1.361615     | 0.0003510825 | 39           | 1.361615     | 11.444232    | 1.416536     |  3.381285    | 0.3124634    | 1.3538912    | 0.1866480    | 1.674078     | 0.8133520    | 0.256437266  | 2.397079     |  45.794867   |  4.001567    |\n",
       "| 0.9909036    | 0            | 1.013341     | 1.013341     | 0.0000000000 | 12           | 1.013341     |  5.403820    | 1.013879     |  8.033654    | 2.8574894    | 0.9848393    | 0.7382109    | 3.870831     | 0.2617891    | 0.013956311  | 2.000000     |   5.497571   |  1.017349    |\n",
       "| 0.4814025    | 0            | 1.468605     | 1.468605     | 0.0000000000 | 28           | 1.468605     | 11.283038    | 1.462013     |  3.646474    | 0.5712783    | 0.5142732    | 0.2800544    | 2.039883     | 0.7199456    | 0.092420524  | 2.223522     | 328.472677   | 29.112079    |\n",
       "\n"
      ],
      "text/plain": [
       "  ANOnto    AROnto CBOOnto  CBOOnto2 CROnto       DITOnto INROnto  LCOMOnto \n",
       "1 0.5677419 0      1.000000 1.000000 0.0000000000  9      1.000000  2.442413\n",
       "2 1.1463415 0      1.040650 1.040650 0.0000000000  3      1.040650  1.996063\n",
       "3 0.4129901 0      1.361615 1.361615 0.0003510825 39      1.361615 11.444232\n",
       "4 0.9909036 0      1.013341 1.013341 0.0000000000 12      1.013341  5.403820\n",
       "5 0.4814025 0      1.468605 1.468605 0.0000000000 28      1.468605 11.283038\n",
       "  NACOnto  NOCOnto   NOMOnto   POnto     PROnto    RFCOnto  RROnto   \n",
       "1 1.001832  8.378378 0.0000000 0.4935484 0.0000000 1.000000 1.0000000\n",
       "2 1.045267 85.333333 1.9634146 1.0284553 0.6535859 3.004065 0.3464141\n",
       "3 1.416536  3.381285 0.3124634 1.3538912 0.1866480 1.674078 0.8133520\n",
       "4 1.013879  8.033654 2.8574894 0.9848393 0.7382109 3.870831 0.2617891\n",
       "5 1.462013  3.646474 0.5712783 0.5142732 0.2800544 2.039883 0.7199456\n",
       "  TMOnto      TMOnto2  WMCOnto    WMCOnto2 \n",
       "1 0.001615509 2.000000   2.446886  1.001832\n",
       "2 0.044897959 2.000000   2.086420  1.045267\n",
       "3 0.256437266 2.397079  45.794867  4.001567\n",
       "4 0.013956311 2.000000   5.497571  1.017349\n",
       "5 0.092420524 2.223522 328.472677 29.112079"
      ]
     },
     "metadata": {},
     "output_type": "display_data"
    }
   ],
   "source": [
    "data(\"ontMetrics\")\n",
    "df = as.data.frame(assay(ontMetrics))\n",
    "df[\"Description\"] = NULL # Description column not relevant atm.\n",
    "head(df, 5)"
   ]
  },
  {
   "cell_type": "markdown",
   "id": "54468235",
   "metadata": {},
   "source": [
    "# RSKC <a class=\"anchor\" id=\"rskc\"></a>"
   ]
  },
  {
   "cell_type": "markdown",
   "id": "f8c6fdcb",
   "metadata": {},
   "source": [
    "Robust and Sparse K-Means clustering [[1]](#1) requires to select mainly three parameters:\n",
    "- **nlc**: Number of *K* cluster. It is to be determined by *evaluomeR* optimal *K* algorithm.\n",
    "- **L<sub>1</sub>**: The tuning parameter for sparce clustering. It acts as the upper bound restraint for the vector of weights. 1 $<$ L<sub>1</sub> $\\leq$ $\\sqrt{num.variables}$.\n",
    "- **$\\alpha$**: The trimming portion [[4]](#4) used in the robust clustering."
   ]
  },
  {
   "cell_type": "markdown",
   "id": "ceb7f7bc",
   "metadata": {},
   "source": [
    "## Figuring out the L<sub>1</sub> upper boundry <a class=\"anchor\" id=\"l1_boundry\"></a>"
   ]
  },
  {
   "cell_type": "markdown",
   "id": "0808363d",
   "metadata": {},
   "source": [
    "In [[2]](#2) authors provide description of the algorithm to select the tunning parameter L<sub>1</sub> for the sparse K-means, which consist of independent permutations from the same source data matrix and the gap statistic [[5]](#5). This algorithm is presented in the following package: \"sparcl\" TODO: citar paquete y poner código."
   ]
  },
  {
   "cell_type": "markdown",
   "id": "6a40429b",
   "metadata": {},
   "source": [
    "# References <a class=\"anchor\" id=\"references\"></a>\n",
    "\n",
    "<a id=\"1\">[1]</a>\n",
    "Kondo, Y., Salibian-Barrera, M., & Zamar, R. (2016). RSKC: An R Package for a Robust and Sparse K-Means Clustering Algorithm. Journal of Statistical Software, 72(5), 1–26. https://doi.org/10.18637/jss.v072.i05\n",
    "\n",
    "<a id=\"2\">[2]</a>\n",
    "Witten, D. M., & Tibshirani, R. (2010). A framework for feature selection in clustering. Journal of the American Statistical Association, 105(490), 713–726. https://doi.org/10.1198/jasa.2010.tm09415\n",
    "\n",
    "<a id=\"3\">[3]</a>\n",
    "Robert Tibshirani, & Guenther Walther (2005). Cluster Validation by Prediction Strength. Journal of Computational and Graphical Statistics, 14(3), 511-528. https://doi.org/10.1198/106186005X59243\n",
    "\n",
    "<a id=\"4\">[4]</a>\n",
    "Gordaliza, A. (1991). On the breakdown point of multivariate location estimators based on trimming procedures. Statistics & Probability Letters, 11(5), 387-394. https://doi.org/10.1016/0167-7152(91)90186-U\n",
    "\n",
    "<a id=\"5\">[5]</a>\n",
    "Tibshirani, R., Walther, G., & Hastie, T. (2001). Estimating the number of clusters in a data set via the gap statistic. Journal of the Royal Statistical Society: Series B (Statistical Methodology), 63(2), 411-423. https://doi.org/10.1111/1467-9868.00293"
   ]
  }
 ],
 "metadata": {
  "kernelspec": {
   "display_name": "R",
   "language": "R",
   "name": "ir"
  },
  "language_info": {
   "codemirror_mode": "r",
   "file_extension": ".r",
   "mimetype": "text/x-r-source",
   "name": "R",
   "pygments_lexer": "r",
   "version": "3.6.1"
  }
 },
 "nbformat": 4,
 "nbformat_minor": 5
}
